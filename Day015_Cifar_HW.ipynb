{
 "cells": [
  {
   "cell_type": "markdown",
   "metadata": {},
   "source": [
    "## 『本次練習內容』\n",
    "#### 運用這幾天所學觀念搭建一個CNN分類器"
   ]
  },
  {
   "cell_type": "markdown",
   "metadata": {},
   "source": [
    "## 『本次練習目的』\n",
    "  #### 熟悉CNN分類器搭建步驟與原理\n",
    "  #### 學員們可以嘗試不同搭法，如使用不同的Maxpooling層，用GlobalAveragePooling取代Flatten等等"
   ]
  },
  {
   "cell_type": "code",
   "execution_count": 35,
   "metadata": {},
   "outputs": [],
   "source": [
    "from keras.models import Sequential\n",
    "from keras.layers import Convolution2D\n",
    "from keras.layers import MaxPooling2D\n",
    "from keras.layers import Flatten\n",
    "from keras.layers import Dense\n",
    "from keras.layers import Dropout\n",
    "from keras.layers import BatchNormalization\n",
    "from keras.datasets import cifar10\n",
    "import numpy as np\n",
    "import tensorflow as tf\n",
    "from sklearn.preprocessing import OneHotEncoder\n",
    "\n",
    "from tensorflow.keras.layers import GlobalAveragePooling2D\n"
   ]
  },
  {
   "cell_type": "code",
   "execution_count": 27,
   "metadata": {},
   "outputs": [
    {
     "name": "stdout",
     "output_type": "stream",
     "text": [
      "(50000, 32, 32, 3)\n"
     ]
    }
   ],
   "source": [
    "(x_train, y_train), (x_test, y_test) = cifar10.load_data()\n",
    "\n",
    "print(x_train.shape) #(50000, 32, 32, 3)"
   ]
  },
  {
   "cell_type": "code",
   "execution_count": 28,
   "metadata": {},
   "outputs": [
    {
     "name": "stdout",
     "output_type": "stream",
     "text": [
      "(5000, 32, 32, 3)\n"
     ]
    }
   ],
   "source": [
    "(x_train, y_train), (x_test, y_test) = (x_train[:5000], y_train[:5000]), (x_test[:1000], y_test[:1000])\n",
    "\n",
    "print(x_train.shape) #(50000, 32, 32, 3)"
   ]
  },
  {
   "cell_type": "code",
   "execution_count": 29,
   "metadata": {},
   "outputs": [
    {
     "name": "stdout",
     "output_type": "stream",
     "text": [
      "(5000, 32, 3)\n"
     ]
    }
   ],
   "source": [
    "oo = np.mean(x_train, axis=(1))\n",
    "print(oo.shape)"
   ]
  },
  {
   "cell_type": "code",
   "execution_count": 30,
   "metadata": {},
   "outputs": [],
   "source": [
    "## Normalize Data\n",
    "def normalize(X_train,X_test):\n",
    "        mean = np.mean(X_train,axis=(0,1,2,3))## 0:50000張平均, 1:x軸32平均, 2:y軸32平均, 3:RBG平均\n",
    "        std = np.std(X_train, axis=(0, 1, 2, 3))\n",
    "        X_train = (X_train-mean)/(std+1e-7)\n",
    "        X_test = (X_test-mean)/(std+1e-7) \n",
    "        return X_train, X_test,mean,std\n",
    "    \n",
    "    \n",
    "## Normalize Training and Testset    \n",
    "x_train, x_test,mean_train,std_train = normalize(x_train, x_test) "
   ]
  },
  {
   "cell_type": "code",
   "execution_count": 31,
   "metadata": {},
   "outputs": [
    {
     "data": {
      "text/plain": [
       "(5000, 1)"
      ]
     },
     "execution_count": 31,
     "metadata": {},
     "output_type": "execute_result"
    }
   ],
   "source": [
    "y_train.shape"
   ]
  },
  {
   "cell_type": "code",
   "execution_count": 32,
   "metadata": {},
   "outputs": [
    {
     "name": "stderr",
     "output_type": "stream",
     "text": [
      "D:\\anaconda3\\lib\\site-packages\\sklearn\\preprocessing\\_encoders.py:368: FutureWarning: The handling of integer data will change in version 0.22. Currently, the categories are determined based on the range [0, max(values)], while in the future they will be determined based on the unique values.\n",
      "If you want the future behaviour and silence this warning, you can specify \"categories='auto'\".\n",
      "In case you used a LabelEncoder before this OneHotEncoder to convert the categories to integers, then you can now use the OneHotEncoder directly.\n",
      "  warnings.warn(msg, FutureWarning)\n"
     ]
    }
   ],
   "source": [
    "## OneHot Label 由(None, 1)-(None, 10)\n",
    "## ex. label=2,變成[0,0,1,0,0,0,0,0,0,0]\n",
    "one_hot=OneHotEncoder()\n",
    "y_train=one_hot.fit_transform(y_train).toarray()\n",
    "y_test=one_hot.transform(y_test).toarray()"
   ]
  },
  {
   "cell_type": "code",
   "execution_count": 33,
   "metadata": {},
   "outputs": [
    {
     "name": "stdout",
     "output_type": "stream",
     "text": [
      "Epoch 1/10\n",
      "5000/5000 [==============================] - 36s 7ms/step - loss: 2.2181 - acc: 0.2868\n",
      "Epoch 2/10\n",
      "5000/5000 [==============================] - 29s 6ms/step - loss: 1.5911 - acc: 0.4430\n",
      "Epoch 3/10\n",
      "5000/5000 [==============================] - 28s 6ms/step - loss: 1.2556 - acc: 0.5502\n",
      "Epoch 4/10\n",
      "5000/5000 [==============================] - 29s 6ms/step - loss: 0.9780 - acc: 0.6472\n",
      "Epoch 5/10\n",
      "5000/5000 [==============================] - 29s 6ms/step - loss: 0.7202 - acc: 0.7438\n",
      "Epoch 6/10\n",
      "5000/5000 [==============================] - 28s 6ms/step - loss: 0.5146 - acc: 0.8380\n",
      "Epoch 7/10\n",
      "5000/5000 [==============================] - 29s 6ms/step - loss: 0.3393 - acc: 0.9014\n",
      "Epoch 8/10\n",
      "5000/5000 [==============================] - 28s 6ms/step - loss: 0.2246 - acc: 0.9418\n",
      "Epoch 9/10\n",
      "5000/5000 [==============================] - 29s 6ms/step - loss: 0.1337 - acc: 0.9738\n",
      "Epoch 10/10\n",
      "5000/5000 [==============================] - 29s 6ms/step - loss: 0.0772 - acc: 0.9900\n"
     ]
    },
    {
     "data": {
      "text/plain": [
       "<keras.callbacks.History at 0x17b98494ef0>"
      ]
     },
     "execution_count": 33,
     "metadata": {},
     "output_type": "execute_result"
    }
   ],
   "source": [
    "\n",
    "classifier = Sequential()\n",
    "\n",
    "#卷積組合\n",
    "classifier.add(Convolution2D(32, (3,3), input_shape=(32,32,3), activation='relu'))#32,3,3,input_shape=(32,32,3),activation='relu''\n",
    "classifier.add(BatchNormalization())\n",
    "\n",
    "'''自己決定MaxPooling2D放在哪裡'''\n",
    "#classifier.add(MaxPooling2D(pool_size=(2,2)))\n",
    "\n",
    "#卷積組合\n",
    "classifier.add(Convolution2D(64, (3,3)))\n",
    "classifier.add(BatchNormalization())\n",
    "\n",
    "classifier.add(MaxPooling2D(pool_size=(2,2)))\n",
    "\n",
    "#flatten\n",
    "classifier.add(Flatten())\n",
    "\n",
    "#FC\n",
    "classifier.add(Dense(units=100, activation='relu')) #output_dim=100,activation=relu\n",
    "\n",
    "#輸出\n",
    "classifier.add(Dense(units=10, activation='softmax'))\n",
    "\n",
    "#超過兩個就要選categorical_crossentrophy\n",
    "classifier.compile(optimizer='adam', loss='categorical_crossentropy', metrics=['accuracy'])\n",
    "classifier.fit(x_train,y_train, batch_size=100, epochs=10)"
   ]
  },
  {
   "cell_type": "code",
   "execution_count": null,
   "metadata": {},
   "outputs": [],
   "source": [
    "\n",
    "classifier=Sequential()\n",
    "\n",
    "#卷積組合\n",
    "classifier.add(Convolution2D('自己設計參數'))#32,3,3,input_shape=(32,32,3),activation='relu''\n",
    "classifier.add(BatchNormalization())\n",
    "\n",
    "'''自己決定MaxPooling2D放在哪裡'''\n",
    "#classifier.add(MaxPooling2D(pool_size=(2,2)))\n",
    "\n",
    "#卷積組合\n",
    "classifier.add(Convolution2D('自己設計參數'))\n",
    "classifier.add(BatchNormalization())\n",
    "\n",
    "#flatten\n",
    "classifier.add(Flatten())\n",
    "\n",
    "#FC\n",
    "classifier.add(Dense('自己設計FC層參數')) #output_dim=100,activation=relu\n",
    "\n",
    "#輸出\n",
    "classifier.add(Dense(output_dim=10,activation='輸出函數應該用什麼？'))\n",
    "\n",
    "#超過兩個就要選categorical_crossentrophy\n",
    "classifier.compile(optimizer = 'adam', loss = 'categorical_crossentropy', metrics = ['accuracy'])\n",
    "classifier.fit(x_train,y_train,batch_size=100,epochs=100)"
   ]
  },
  {
   "cell_type": "markdown",
   "metadata": {},
   "source": [
    "## 預測新圖片，輸入影像前處理要與訓練時相同\n",
    "#### ((X-mean)/(std+1e-7) ):這裡的mean跟std是訓練集的\n",
    "## 維度如下方示範"
   ]
  },
  {
   "cell_type": "code",
   "execution_count": 43,
   "metadata": {},
   "outputs": [
    {
     "data": {
      "text/plain": [
       "(1, 32, 32, 3)"
      ]
     },
     "execution_count": 43,
     "metadata": {},
     "output_type": "execute_result"
    }
   ],
   "source": [
    "np.zeros(shape=(1,32,32,3)).shape"
   ]
  },
  {
   "cell_type": "code",
   "execution_count": 37,
   "metadata": {},
   "outputs": [
    {
     "data": {
      "text/plain": [
       "array([[[[0.3098495 , 0.        , 0.        , ..., 0.6049616 ,\n",
       "          0.        , 0.5742771 ],\n",
       "         [0.27015957, 0.        , 0.        , ..., 0.6049616 ,\n",
       "          0.        , 0.53139305],\n",
       "         [0.27015957, 0.        , 0.        , ..., 0.6049616 ,\n",
       "          0.        , 0.53139305],\n",
       "         ...,\n",
       "         [0.27015957, 0.        , 0.        , ..., 0.6049616 ,\n",
       "          0.        , 0.53139305],\n",
       "         [0.27015957, 0.        , 0.        , ..., 0.6049616 ,\n",
       "          0.        , 0.53139305],\n",
       "         [0.28381804, 0.        , 0.00596581, ..., 0.6049616 ,\n",
       "          0.        , 0.60928   ]],\n",
       "\n",
       "        [[0.19774789, 0.        , 0.        , ..., 0.6049616 ,\n",
       "          0.        , 0.45527604],\n",
       "         [0.13502038, 0.        , 0.        , ..., 0.6049616 ,\n",
       "          0.        , 0.38334268],\n",
       "         [0.13502038, 0.        , 0.        , ..., 0.6049616 ,\n",
       "          0.        , 0.38334268],\n",
       "         ...,\n",
       "         [0.13502038, 0.        , 0.        , ..., 0.6049616 ,\n",
       "          0.        , 0.38334268],\n",
       "         [0.13502038, 0.        , 0.        , ..., 0.6049616 ,\n",
       "          0.        , 0.38334268],\n",
       "         [0.13502038, 0.        , 0.00596581, ..., 0.6049616 ,\n",
       "          0.        , 0.43865132]],\n",
       "\n",
       "        [[0.19774789, 0.        , 0.        , ..., 0.6049616 ,\n",
       "          0.        , 0.45527604],\n",
       "         [0.13502038, 0.        , 0.        , ..., 0.6049616 ,\n",
       "          0.        , 0.38334268],\n",
       "         [0.13502038, 0.        , 0.        , ..., 0.6049616 ,\n",
       "          0.        , 0.38334268],\n",
       "         ...,\n",
       "         [0.13502038, 0.        , 0.        , ..., 0.6049616 ,\n",
       "          0.        , 0.38334268],\n",
       "         [0.13502038, 0.        , 0.        , ..., 0.6049616 ,\n",
       "          0.        , 0.38334268],\n",
       "         [0.13502038, 0.        , 0.00596581, ..., 0.6049616 ,\n",
       "          0.        , 0.43865132]],\n",
       "\n",
       "        ...,\n",
       "\n",
       "        [[0.19774789, 0.        , 0.        , ..., 0.6049616 ,\n",
       "          0.        , 0.45527604],\n",
       "         [0.13502038, 0.        , 0.        , ..., 0.6049616 ,\n",
       "          0.        , 0.38334268],\n",
       "         [0.13502038, 0.        , 0.        , ..., 0.6049616 ,\n",
       "          0.        , 0.38334268],\n",
       "         ...,\n",
       "         [0.13502038, 0.        , 0.        , ..., 0.6049616 ,\n",
       "          0.        , 0.38334268],\n",
       "         [0.13502038, 0.        , 0.        , ..., 0.6049616 ,\n",
       "          0.        , 0.38334268],\n",
       "         [0.13502038, 0.        , 0.00596581, ..., 0.6049616 ,\n",
       "          0.        , 0.43865132]],\n",
       "\n",
       "        [[0.19774789, 0.        , 0.        , ..., 0.6049616 ,\n",
       "          0.        , 0.45527604],\n",
       "         [0.13502038, 0.        , 0.        , ..., 0.6049616 ,\n",
       "          0.        , 0.38334268],\n",
       "         [0.13502038, 0.        , 0.        , ..., 0.6049616 ,\n",
       "          0.        , 0.38334268],\n",
       "         ...,\n",
       "         [0.13502038, 0.        , 0.        , ..., 0.6049616 ,\n",
       "          0.        , 0.38334268],\n",
       "         [0.13502038, 0.        , 0.        , ..., 0.6049616 ,\n",
       "          0.        , 0.38334268],\n",
       "         [0.13502038, 0.        , 0.00596581, ..., 0.6049616 ,\n",
       "          0.        , 0.43865132]],\n",
       "\n",
       "        [[0.24460454, 0.        , 0.        , ..., 0.6049616 ,\n",
       "          0.        , 0.45527604],\n",
       "         [0.16741003, 0.        , 0.        , ..., 0.6049616 ,\n",
       "          0.        , 0.38334268],\n",
       "         [0.16741003, 0.        , 0.        , ..., 0.6049616 ,\n",
       "          0.        , 0.38334268],\n",
       "         ...,\n",
       "         [0.16741003, 0.        , 0.        , ..., 0.6049616 ,\n",
       "          0.        , 0.38334268],\n",
       "         [0.16741003, 0.        , 0.        , ..., 0.6049616 ,\n",
       "          0.        , 0.38334268],\n",
       "         [0.16741003, 0.        , 0.00596581, ..., 0.6049616 ,\n",
       "          0.        , 0.43865132]]]], dtype=float32)"
      ]
     },
     "execution_count": 37,
     "metadata": {},
     "output_type": "execute_result"
    }
   ],
   "source": [
    "input_example=(np.zeros(shape=(1,32,32,3))-mean_train)/(std_train+1e-7) \n",
    "classifier.predict(input_example)"
   ]
  },
  {
   "cell_type": "code",
   "execution_count": null,
   "metadata": {},
   "outputs": [],
   "source": []
  }
 ],
 "metadata": {
  "kernelspec": {
   "display_name": "Python 3",
   "language": "python",
   "name": "python3"
  },
  "language_info": {
   "codemirror_mode": {
    "name": "ipython",
    "version": 3
   },
   "file_extension": ".py",
   "mimetype": "text/x-python",
   "name": "python",
   "nbconvert_exporter": "python",
   "pygments_lexer": "ipython3",
   "version": "3.7.1"
  }
 },
 "nbformat": 4,
 "nbformat_minor": 2
}
