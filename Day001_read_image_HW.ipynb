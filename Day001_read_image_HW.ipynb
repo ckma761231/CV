{
 "cells": [
  {
   "cell_type": "markdown",
   "metadata": {},
   "source": [
    "# 作業\n",
    "\n",
    "思考一下我們前面有提到圖片是矩陣，但維度可能會不一樣\n",
    "例如灰階圖只有兩個維度，RGB 彩圖則有 3 個維度\n",
    "\n",
    "假如今天我們把 RGB 3 個維度拆開來看會有甚麼不同的效果呢？"
   ]
  },
  {
   "cell_type": "code",
   "execution_count": 3,
   "metadata": {},
   "outputs": [],
   "source": [
    "import cv2\n",
    "\n",
    "img_path = 'data/lena.png'\n",
    "\n",
    "# 以彩色圖片的方式載入\n",
    "img = cv2.imread(img_path, cv2.IMREAD_COLOR)\n",
    "\n",
    "# 以灰階圖片的方式載入\n",
    "img_gray = cv2.imread(img_path, cv2.IMREAD_GRAYSCALE)\n",
    "\n",
    "img_three = cv2.imread(img_path, cv2.IMREAD_UNCHANGED)\n",
    "\n",
    "# 為了要不斷顯示圖片，所以使用一個迴圈\n",
    "while True:\n",
    "    # 顯示彩圖\n",
    "    cv2.imshow('bgr', img)\n",
    "    # 顯示灰圖\n",
    "    cv2.imshow('gray', img_gray)\n",
    "    \n",
    "    cv2.imshow('three', img_three)\n",
    "\n",
    "    # 直到按下 ESC 鍵才會自動關閉視窗結束程式\n",
    "    k = cv2.waitKey(0)\n",
    "    if k == 27: #ESC(ASCII码为27)\n",
    "        cv2.destroyAllWindows()\n",
    "        break"
   ]
  },
  {
   "cell_type": "code",
   "execution_count": 4,
   "metadata": {},
   "outputs": [],
   "source": [
    "import cv2\n",
    "B,G,R = cv2.split(img);                       #分离出图片的B，R，G颜色通道\n",
    "cv2.imshow(\"RED\",R);                            #显示三通道的值都为R值时d图片\n",
    "cv2.imshow(\"GREEN\",G);                          #显示三通道的值都为G值时d图片\n",
    "cv2.imshow(\"BLUE\",B);                           #显示三通道的值都为B值时d图片\n",
    "cv2.waitKey(0);                                 #不让程序突然结束\n"
   ]
  },
  {
   "cell_type": "code",
   "execution_count": 8,
   "metadata": {},
   "outputs": [],
   "source": [
    "import numpy as np;\n",
    "import cv2;             #导入opencv模块\n",
    " \n",
    "\n",
    "B,G,R = cv2.split(img);                       #分离出图片的B，R，G颜色通道\n",
    "zeros = np.zeros(img.shape[:2],dtype=\"uint8\");#创建与image相同大小的零矩阵\n",
    "\n",
    "while True:\n",
    "    cv2.imshow(\"BLUE\",cv2.merge([B,zeros,zeros]));#显示 （B，0，0）图像\n",
    "    cv2.imshow(\"GREEN\",cv2.merge([zeros,G,zeros]));#显示（0，G，0）图像\n",
    "    cv2.imshow(\"RED\",cv2.merge([zeros,zeros,R]));#显示（0，0，R）图像\n",
    "\n",
    "    k = cv2.waitKey(0)\n",
    "    if k == 27: #ESC(ASCII码为27)\n",
    "        cv2.destroyAllWindows()\n",
    "        break"
   ]
  },
  {
   "cell_type": "code",
   "execution_count": 9,
   "metadata": {},
   "outputs": [
    {
     "data": {
      "text/plain": [
       "(512, 512)"
      ]
     },
     "execution_count": 9,
     "metadata": {},
     "output_type": "execute_result"
    }
   ],
   "source": [
    "zeros.shape"
   ]
  },
  {
   "cell_type": "code",
   "execution_count": 10,
   "metadata": {},
   "outputs": [
    {
     "data": {
      "text/plain": [
       "(512, 512, 3)"
      ]
     },
     "execution_count": 10,
     "metadata": {},
     "output_type": "execute_result"
    }
   ],
   "source": [
    "img.shape"
   ]
  },
  {
   "cell_type": "code",
   "execution_count": null,
   "metadata": {},
   "outputs": [],
   "source": []
  }
 ],
 "metadata": {
  "kernelspec": {
   "display_name": "Python 3",
   "language": "python",
   "name": "python3"
  },
  "language_info": {
   "codemirror_mode": {
    "name": "ipython",
    "version": 3
   },
   "file_extension": ".py",
   "mimetype": "text/x-python",
   "name": "python",
   "nbconvert_exporter": "python",
   "pygments_lexer": "ipython3",
   "version": "3.7.1"
  }
 },
 "nbformat": 4,
 "nbformat_minor": 2
}
